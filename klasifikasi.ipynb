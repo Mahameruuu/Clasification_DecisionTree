{
 "cells": [
  {
   "cell_type": "code",
   "execution_count": 1,
   "metadata": {},
   "outputs": [],
   "source": [
    "import pandas as pd\n",
    "from sklearn.model_selection import train_test_split\n",
    "from sklearn.tree import DecisionTreeClassifier"
   ]
  },
  {
   "cell_type": "code",
   "execution_count": 2,
   "metadata": {},
   "outputs": [],
   "source": [
    "data = pd.read_csv('D:/data.csv', delimiter=';')"
   ]
  },
  {
   "cell_type": "code",
   "execution_count": 3,
   "metadata": {},
   "outputs": [],
   "source": [
    "data['Kelas'] = ['Pria' if gender == 'Pria' else 'Wanita' for gender in data['Gender']]\n",
    "\n",
    "data['Gaji'] = data['Gaji'].replace(',', '.', regex=True).astype(float)\n",
    "\n",
    "# Menentukan fitur yang akan di klasifikasi \n",
    "X = data[['Gaji', 'Usia', 'Jumlah Tanggungan']]\n",
    "y = data['Kelas']\n",
    "\n",
    "# Memisahkan data menjadi training set dan testing set\n",
    "X_train, X_test, y_train, y_test = train_test_split(X, y, test_size=0.2, random_state=42)"
   ]
  },
  {
   "cell_type": "code",
   "execution_count": 4,
   "metadata": {},
   "outputs": [],
   "source": [
    "# Model Decision Tree\n",
    "model = DecisionTreeClassifier()\n",
    "\n",
    "model.fit(X_train, y_train)\n",
    "\n",
    "y_pred = model.predict(X_test)\n",
    "\n",
    "hasil_prediksi = pd.DataFrame({\n",
    "    'No': y_test.index.values,\n",
    "    'Gaji': X_test['Gaji'],\n",
    "    'Usia': X_test['Usia'],\n",
    "    'Jumlah Tanggungan': X_test['Jumlah Tanggungan'],\n",
    "    'Kelas': y_pred\n",
    "})"
   ]
  },
  {
   "cell_type": "code",
   "execution_count": 5,
   "metadata": {},
   "outputs": [
    {
     "name": "stdout",
     "output_type": "stream",
     "text": [
      "    No       Gaji  Usia  Jumlah Tanggungan   Kelas\n",
      "26  26  6700000.0    35                  3    Pria\n",
      "13  13  6000000.0    25                  0  Wanita\n",
      "24  24  8900000.0    43                  5    Pria\n",
      "21  21  4750000.0    33                  0  Wanita\n",
      "15  15  8700000.0    40                  3    Pria\n",
      "29  29  4200000.0    28                  1    Pria\n",
      "19  19  4700000.0    28                  0    Pria\n"
     ]
    }
   ],
   "source": [
    "print(hasil_prediksi)"
   ]
  },
  {
   "cell_type": "code",
   "execution_count": null,
   "metadata": {},
   "outputs": [],
   "source": []
  }
 ],
 "metadata": {
  "kernelspec": {
   "display_name": "Python 3",
   "language": "python",
   "name": "python3"
  },
  "language_info": {
   "codemirror_mode": {
    "name": "ipython",
    "version": 3
   },
   "file_extension": ".py",
   "mimetype": "text/x-python",
   "name": "python",
   "nbconvert_exporter": "python",
   "pygments_lexer": "ipython3",
   "version": "3.11.8"
  }
 },
 "nbformat": 4,
 "nbformat_minor": 2
}
